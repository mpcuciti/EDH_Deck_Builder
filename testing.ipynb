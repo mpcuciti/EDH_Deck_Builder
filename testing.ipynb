{
 "cells": [
  {
   "cell_type": "code",
   "execution_count": 2,
   "metadata": {},
   "outputs": [],
   "source": [
    "from AutoEDHFunctionsandClasses import *\n",
    "from pprint import pprint\n",
    "import psycopg2"
   ]
  },
  {
   "cell_type": "code",
   "execution_count": 4,
   "metadata": {},
   "outputs": [],
   "source": [
    "#yes my DB credentials are in here\n",
    "# no it's not permanent (just for testing)\n",
    "# dont worry about it\n",
    "conn = psycopg2.connect(\n",
    "    host=\"postgresql.cuciti.net\",\n",
    "    database=\"mtgcard_db\",\n",
    "    user=\"mtgcard_db_user\",\n",
    "    password=\"jVvWcapRwg5j74\"\n",
    ")\n",
    "seed_card_url = 'https://edhrec.com/commanders/omnath-locus-of-the-roil'\n",
    "seed_card = mtgcard(seed_card_url, conn=conn)\n",
    "deck = mtgdeck(seed_card, conn=conn)"
   ]
  },
  {
   "cell_type": "code",
   "execution_count": 5,
   "metadata": {},
   "outputs": [
    {
     "data": {
      "text/plain": [
       "36"
      ]
     },
     "execution_count": 5,
     "metadata": {},
     "output_type": "execute_result"
    }
   ],
   "source": [
    "deck.calculate_average_mana()"
   ]
  },
  {
   "cell_type": "code",
   "execution_count": 6,
   "metadata": {},
   "outputs": [
    {
     "name": "stdout",
     "output_type": "stream",
     "text": [
      "Adding Animar, Soul of Elements\n",
      "Adding Mina and Denn, Wildborn\n",
      "Adding Uro, Titan of Nature's Wrath\n",
      "Adding Oboro, Palace in the Clouds\n",
      "Adding Decimate\n",
      "Adding Elemental Bond\n",
      "Adding Tempt with Discovery\n",
      "Adding Gretchen Titchwillow\n",
      "Adding Skyshroud Claim\n",
      "Adding Vigor\n",
      "Adding Forgotten Ancient\n",
      "Adding Druid Class\n",
      "Adding Bane of Progress\n",
      "Adding Valakut Exploration\n",
      "Adding Avenger of Zendikar\n",
      "Adding Flamekin Village\n",
      "Adding Ramunap Excavator\n",
      "Adding Genesis Ultimatum\n",
      "Adding Fertilid\n",
      "Adding Wayfarer's Bauble\n",
      "Adding Multani, Yavimaya's Avatar\n",
      "Adding Steam Vents\n",
      "Adding Maelstrom Wanderer\n",
      "Adding Splendid Reclamation\n",
      "Adding Ancient Greenwarden\n",
      "Adding Zendikar Resurgent\n",
      "Adding Rubblehulk\n",
      "Adding Titania, Protector of Argoth\n",
      "Adding Asceticism\n",
      "Adding Crucible of Worlds\n",
      "Adding Ashaya, Soul of the Wild\n",
      "Adding Stomping Ground\n",
      "Adding Foundation Breaker\n",
      "Adding Prismatic Vista\n",
      "Adding Lotus Cobra\n",
      "Adding Evolution Sage\n",
      "Adding Exploration\n",
      "Adding Rampaging Baloths\n",
      "Adding Overgrowth Elemental\n",
      "Adding Ulvenwald Hydra\n",
      "Adding Courser of Kruphix\n",
      "Adding Animist's Awakening\n",
      "Adding Wayward Swordtooth\n",
      "Adding Urban Evolution\n",
      "Adding Kiora's Follower\n",
      "Adding Radha, Heart of Keld\n",
      "Adding Realmwalker\n",
      "Adding Reliquary Tower\n",
      "Adding Nyxbloom Ancient\n",
      "Adding Rhythm of the Wild\n",
      "Adding Aesi, Tyrant of Gyre Strait\n",
      "Adding Bala Ged Recovery // Bala Ged Sanctuary\n",
      "Adding Sulfur Falls\n",
      "Adding Rootbound Crag\n",
      "Adding Canopy Tactician\n",
      "Adding Burgeoning\n",
      "Adding Nissa, Steward of Elements\n",
      "Adding Escape to the Wilds\n",
      "Adding Thassa's Oracle\n",
      "Adding Kodama's Reach\n",
      "Adding Retreat to Coralhelm\n",
      "Adding Azusa, Lost but Seeking\n",
      "Adding Acidic Slime\n",
      "Adding Omnath, Locus of Rage\n",
      "17\n",
      "Adding Forest\n",
      "Adding Forest\n",
      "Adding Forest\n",
      "Adding Forest\n",
      "Adding Forest\n",
      "Adding Forest\n",
      "Adding Forest\n",
      "Adding Forest\n",
      "Adding Forest\n",
      "Adding Forest\n",
      "Adding Forest\n",
      "Adding Forest\n",
      "Adding Forest\n",
      "Adding Forest\n",
      "Adding Forest\n",
      "Adding Forest\n",
      "Adding Forest\n",
      "5\n",
      "Adding Island\n",
      "Adding Island\n",
      "Adding Island\n",
      "Adding Island\n",
      "Adding Island\n",
      "6\n",
      "Adding Mountain\n",
      "Adding Mountain\n",
      "Adding Mountain\n",
      "Adding Mountain\n",
      "Adding Mountain\n",
      "Adding Mountain\n",
      "Adding Nissa, Who Shakes the World\n",
      "Adding Cloudkin Seer\n",
      "Adding Phylath, World Sculptor\n",
      "Adding Roiling Regrowth\n",
      "Adding Cultivate\n",
      "Adding Scapeshift\n",
      "Adding Dryad of the Ilysian Grove\n"
     ]
    }
   ],
   "source": [
    "for x in range (100 - deck.land_target):\n",
    "    deck.add_synergistic_card()\n",
    "deck.calculate_average_mana()\n",
    "deck.landfall()\n",
    "for x in range (100 - deck.count_cards()):\n",
    "    deck.add_synergistic_card(['Creature', 'Sorcery', 'Instant', 'Enchantment', 'Artifact', 'Planeswalker'])"
   ]
  },
  {
   "cell_type": "code",
   "execution_count": 9,
   "metadata": {},
   "outputs": [
    {
     "name": "stdout",
     "output_type": "stream",
     "text": [
      "75\n"
     ]
    }
   ],
   "source": [
    "print(len(deck.print_deck_list()))"
   ]
  }
 ],
 "metadata": {
  "interpreter": {
   "hash": "9a355eddd8fd8b30628c16cc20bdc514390ff9c3bc74d0a6f9f5d4186fd64a06"
  },
  "kernelspec": {
   "display_name": "Python 3.9.7 64-bit (windows store)",
   "name": "python3"
  },
  "language_info": {
   "codemirror_mode": {
    "name": "ipython",
    "version": 3
   },
   "file_extension": ".py",
   "mimetype": "text/x-python",
   "name": "python",
   "nbconvert_exporter": "python",
   "pygments_lexer": "ipython3",
   "version": "3.9.7"
  },
  "orig_nbformat": 4
 },
 "nbformat": 4,
 "nbformat_minor": 2
}
