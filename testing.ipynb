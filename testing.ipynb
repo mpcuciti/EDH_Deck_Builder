{
 "cells": [
  {
   "cell_type": "code",
   "execution_count": 1,
   "source": [
    "from AutoEDHFunctionsandClasses import *\r\n",
    "from pprint import pprint"
   ],
   "outputs": [],
   "metadata": {}
  },
  {
   "cell_type": "code",
   "execution_count": 2,
   "source": [
    "seed_card_url = 'https://edhrec.com/cards/sen-triplets'\r\n",
    "seed_card = mtgcard(seed_card_url)\r\n",
    "\r\n",
    "deck = mtgdeck(seed_card)"
   ],
   "outputs": [],
   "metadata": {}
  },
  {
   "cell_type": "code",
   "execution_count": 3,
   "source": [
    "print(deck.commander.name)\r\n",
    "pprint(len(deck.deck_list))"
   ],
   "outputs": [
    {
     "output_type": "stream",
     "name": "stdout",
     "text": [
      "Sen Triplets\n",
      "1\n"
     ]
    }
   ],
   "metadata": {}
  },
  {
   "cell_type": "code",
   "execution_count": 4,
   "source": [
    "deck.add_top_commander_cards(10)\r\n",
    "deck.add_top_synergy_commander_cards(10)"
   ],
   "outputs": [
    {
     "output_type": "stream",
     "name": "stdout",
     "text": [
      "Adding Swords to Plowshares\n",
      "Adding Cyclonic Rift\n",
      "Adding Counterspell\n",
      "Adding Lightning Greaves\n",
      "Adding Path to Exile\n",
      "Adding Solemn Simulacrum\n",
      "Adding Fellwar Stone\n",
      "Adding Baleful Strix\n",
      "Adding Smothering Tithe\n",
      "Adding Rhystic Study\n"
     ]
    },
    {
     "output_type": "execute_result",
     "data": {
      "text/plain": [
       "2"
      ]
     },
     "metadata": {},
     "execution_count": 4
    }
   ],
   "metadata": {}
  },
  {
   "cell_type": "code",
   "execution_count": 5,
   "source": [
    "deck.add_top_synergy_commander_cards(10)"
   ],
   "outputs": [
    {
     "output_type": "execute_result",
     "data": {
      "text/plain": [
       "0"
      ]
     },
     "metadata": {},
     "execution_count": 5
    }
   ],
   "metadata": {}
  },
  {
   "cell_type": "code",
   "execution_count": 6,
   "source": [
    "\r\n",
    "deck.calculate_mana_curve()\r\n",
    "print(deck.mana_curve)"
   ],
   "outputs": [
    {
     "output_type": "stream",
     "name": "stdout",
     "text": [
      "{5: 1, 1: 2, 2: 5, 4: 2, 3: 1}\n"
     ]
    }
   ],
   "metadata": {}
  },
  {
   "cell_type": "code",
   "execution_count": 7,
   "source": [
    "pprint(deck.deck_list.keys())\r\n"
   ],
   "outputs": [
    {
     "output_type": "stream",
     "name": "stdout",
     "text": [
      "dict_keys(['Sen Triplets', 'Swords to Plowshares', 'Cyclonic Rift', 'Counterspell', 'Lightning Greaves', 'Path to Exile', 'Solemn Simulacrum', 'Fellwar Stone', 'Baleful Strix', 'Smothering Tithe', 'Rhystic Study'])\n"
     ]
    }
   ],
   "metadata": {}
  },
  {
   "cell_type": "code",
   "execution_count": 8,
   "source": [
    "deck.build_card_seed_pile()"
   ],
   "outputs": [],
   "metadata": {}
  },
  {
   "cell_type": "code",
   "execution_count": 18,
   "source": [
    "pprint(deck.seed_pile)"
   ],
   "outputs": [
    {
     "output_type": "stream",
     "name": "stdout",
     "text": [
      "{0: ['/cards/sen-triplets',\n",
      "     '/cards/swords-to-plowshares',\n",
      "     '/cards/cyclonic-rift',\n",
      "     '/cards/counterspell',\n",
      "     '/cards/lightning-greaves',\n",
      "     '/cards/path-to-exile',\n",
      "     '/cards/solemn-simulacrum',\n",
      "     '/cards/fellwar-stone',\n",
      "     '/cards/baleful-strix',\n",
      "     '/cards/smothering-tithe',\n",
      "     '/cards/rhystic-study'],\n",
      " 1: ['/cards/farseek',\n",
      "     '/cards/kodamas-reach',\n",
      "     '/cards/chaos-warp',\n",
      "     '/cards/talisman-of-dominance',\n",
      "     '/cards/brainstorm'],\n",
      " 2: ['/cards/eternal-witness', '/cards/cultivate', '/cards/opposition-agent'],\n",
      " 3: ['/cards/sakura-tribe-elder', '/cards/fierce-guardianship'],\n",
      " 4: ['/cards/talisman-of-conviction',\n",
      "     '/cards/windfall',\n",
      "     '/cards/enlightened-tutor',\n",
      "     '/cards/deflecting-swat'],\n",
      " 6: ['/cards/golos-tireless-pilgrim',\n",
      "     '/cards/assassins-trophy',\n",
      "     '/cards/dockside-extortionist',\n",
      "     '/cards/talisman-of-hierarchy'],\n",
      " 7: ['/cards/swan-song', '/cards/ponder', '/cards/anguished-unmaking'],\n",
      " 9: ['/cards/faeburrow-elder',\n",
      "     '/cards/mystic-remora',\n",
      "     '/cards/mystical-tutor',\n",
      "     '/cards/generous-gift']}\n"
     ]
    }
   ],
   "metadata": {}
  },
  {
   "cell_type": "code",
   "execution_count": 16,
   "source": [
    "print(deck.choice_list)"
   ],
   "outputs": [
    {
     "output_type": "stream",
     "name": "stdout",
     "text": [
      "[1, 1, 1, 1, 1, 1, 1, 2, 2, 2, 2, 2, 2, 3, 3, 3, 3, 3, 4, 4, 4, 4, 5, 5, 5, 6, 6, 7]\n"
     ]
    }
   ],
   "metadata": {}
  },
  {
   "cell_type": "code",
   "execution_count": 17,
   "source": [
    "deck.create_choice_list()"
   ],
   "outputs": [],
   "metadata": {}
  },
  {
   "cell_type": "code",
   "execution_count": 11,
   "source": [
    "deck.get_to_x_nonland_cards_in_deck(50)"
   ],
   "outputs": [
    {
     "output_type": "stream",
     "name": "stdout",
     "text": [
      "Trying to add Heroic Intervention\n",
      "Trying to add Mystic Remora\n",
      "Adding Mystic Remora\n",
      "Trying to add Talisman of Creativity\n",
      "Trying to add Blasphemous Act\n",
      "Trying to add Birds of Paradise\n",
      "Trying to add Swan Song\n",
      "Adding Swan Song\n",
      "Trying to add Brainstorm\n",
      "Adding Brainstorm\n",
      "Trying to add Rampant Growth\n",
      "Trying to add Deathrite Shaman\n",
      "Trying to add Beast Within\n"
     ]
    },
    {
     "output_type": "error",
     "ename": "KeyError",
     "evalue": "5",
     "traceback": [
      "\u001b[1;31m---------------------------------------------------------------------------\u001b[0m",
      "\u001b[1;31mKeyError\u001b[0m                                  Traceback (most recent call last)",
      "\u001b[1;32m~\\AppData\\Local\\Temp/ipykernel_6400/155959342.py\u001b[0m in \u001b[0;36m<module>\u001b[1;34m\u001b[0m\n\u001b[1;32m----> 1\u001b[1;33m \u001b[0mdeck\u001b[0m\u001b[1;33m.\u001b[0m\u001b[0mget_to_x_nonland_cards_in_deck\u001b[0m\u001b[1;33m(\u001b[0m\u001b[1;36m50\u001b[0m\u001b[1;33m)\u001b[0m\u001b[1;33m\u001b[0m\u001b[1;33m\u001b[0m\u001b[0m\n\u001b[0m",
      "\u001b[1;32mc:\\Users\\Milton\\Documents\\edh_deck\\EDH_Deck_Builder\\AutoEDHFunctionsandClasses.py\u001b[0m in \u001b[0;36mget_to_x_nonland_cards_in_deck\u001b[1;34m(self, x)\u001b[0m\n\u001b[0;32m    191\u001b[0m         \u001b[0my\u001b[0m \u001b[1;33m=\u001b[0m \u001b[1;36m0\u001b[0m\u001b[1;33m\u001b[0m\u001b[1;33m\u001b[0m\u001b[0m\n\u001b[0;32m    192\u001b[0m         \u001b[1;32mwhile\u001b[0m \u001b[0mx\u001b[0m \u001b[1;33m>\u001b[0m \u001b[0mlen\u001b[0m\u001b[1;33m(\u001b[0m\u001b[0mself\u001b[0m\u001b[1;33m.\u001b[0m\u001b[0mdeck_list\u001b[0m\u001b[1;33m)\u001b[0m\u001b[1;33m:\u001b[0m\u001b[1;33m\u001b[0m\u001b[1;33m\u001b[0m\u001b[0m\n\u001b[1;32m--> 193\u001b[1;33m             \u001b[0mself\u001b[0m\u001b[1;33m.\u001b[0m\u001b[0madd_1_random_card_from_seed_pile\u001b[0m\u001b[1;33m(\u001b[0m\u001b[1;33m)\u001b[0m\u001b[1;33m\u001b[0m\u001b[1;33m\u001b[0m\u001b[0m\n\u001b[0m\u001b[0;32m    194\u001b[0m             \u001b[0my\u001b[0m \u001b[1;33m+=\u001b[0m \u001b[1;36m1\u001b[0m\u001b[1;33m\u001b[0m\u001b[1;33m\u001b[0m\u001b[0m\n\u001b[0;32m    195\u001b[0m             \u001b[1;32mif\u001b[0m \u001b[0my\u001b[0m \u001b[1;33m==\u001b[0m \u001b[1;36m5\u001b[0m\u001b[1;33m:\u001b[0m\u001b[1;33m\u001b[0m\u001b[1;33m\u001b[0m\u001b[0m\n",
      "\u001b[1;32mc:\\Users\\Milton\\Documents\\edh_deck\\EDH_Deck_Builder\\AutoEDHFunctionsandClasses.py\u001b[0m in \u001b[0;36madd_1_random_card_from_seed_pile\u001b[1;34m(self)\u001b[0m\n\u001b[0;32m    176\u001b[0m         \u001b[1;32mwhile\u001b[0m \u001b[0madded_card\u001b[0m \u001b[1;33m!=\u001b[0m \u001b[1;32mTrue\u001b[0m\u001b[1;33m:\u001b[0m\u001b[1;33m\u001b[0m\u001b[1;33m\u001b[0m\u001b[0m\n\u001b[0;32m    177\u001b[0m             \u001b[0mstack_choice\u001b[0m \u001b[1;33m=\u001b[0m \u001b[0mrandom\u001b[0m\u001b[1;33m.\u001b[0m\u001b[0mchoice\u001b[0m\u001b[1;33m(\u001b[0m\u001b[0mself\u001b[0m\u001b[1;33m.\u001b[0m\u001b[0mchoice_list\u001b[0m\u001b[1;33m)\u001b[0m\u001b[1;33m\u001b[0m\u001b[1;33m\u001b[0m\u001b[0m\n\u001b[1;32m--> 178\u001b[1;33m             \u001b[0mtemp_card_url\u001b[0m \u001b[1;33m=\u001b[0m \u001b[0mrandom\u001b[0m\u001b[1;33m.\u001b[0m\u001b[0mchoice\u001b[0m\u001b[1;33m(\u001b[0m\u001b[0mself\u001b[0m\u001b[1;33m.\u001b[0m\u001b[0mseed_pile\u001b[0m\u001b[1;33m[\u001b[0m\u001b[0mstack_choice\u001b[0m\u001b[1;33m]\u001b[0m\u001b[1;33m)\u001b[0m\u001b[1;33m\u001b[0m\u001b[1;33m\u001b[0m\u001b[0m\n\u001b[0m\u001b[0;32m    179\u001b[0m             \u001b[0mtemp_card\u001b[0m \u001b[1;33m=\u001b[0m \u001b[0mmtgcard\u001b[0m\u001b[1;33m(\u001b[0m\u001b[0mtemp_card_url\u001b[0m\u001b[1;33m)\u001b[0m\u001b[1;33m\u001b[0m\u001b[1;33m\u001b[0m\u001b[0m\n\u001b[0;32m    180\u001b[0m             \u001b[0mprint\u001b[0m\u001b[1;33m(\u001b[0m\u001b[1;34m'Trying to add'\u001b[0m\u001b[1;33m,\u001b[0m \u001b[0mtemp_card\u001b[0m\u001b[1;33m.\u001b[0m\u001b[0mname\u001b[0m\u001b[1;33m)\u001b[0m\u001b[1;33m\u001b[0m\u001b[1;33m\u001b[0m\u001b[0m\n",
      "\u001b[1;31mKeyError\u001b[0m: 5"
     ]
    }
   ],
   "metadata": {}
  }
 ],
 "metadata": {
  "orig_nbformat": 4,
  "language_info": {
   "name": "python",
   "version": "3.9.7",
   "mimetype": "text/x-python",
   "codemirror_mode": {
    "name": "ipython",
    "version": 3
   },
   "pygments_lexer": "ipython3",
   "nbconvert_exporter": "python",
   "file_extension": ".py"
  },
  "kernelspec": {
   "name": "python3",
   "display_name": "Python 3.9.7 64-bit"
  },
  "interpreter": {
   "hash": "6c83eec85ba308d5678538a3eac967df03af70263aef48aeae41bf6f57d914de"
  }
 },
 "nbformat": 4,
 "nbformat_minor": 2
}