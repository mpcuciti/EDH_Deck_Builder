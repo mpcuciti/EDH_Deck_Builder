{
 "cells": [
  {
   "cell_type": "code",
   "execution_count": 1,
   "source": [
    "from AutoEDHFunctionsandClasses import *\r\n",
    "from pprint import pprint\r\n",
    "import psycopg2"
   ],
   "outputs": [],
   "metadata": {}
  },
  {
   "cell_type": "code",
   "execution_count": 2,
   "source": [
    "conn = psycopg2.connect(\r\n",
    "    host=\"postgresql.cuciti.net\",\r\n",
    "    database=\"mtgcard_db\",\r\n",
    "    user=\"mtgcard_db_user\",\r\n",
    "    password=\"jVvWcapRwg5j74\"\r\n",
    ")"
   ],
   "outputs": [],
   "metadata": {}
  },
  {
   "cell_type": "code",
   "execution_count": 12,
   "source": [
    "seed_card_url = 'https://edhrec.com/cards/sen-triplets'\r\n",
    "seed_card = mtgcard(seed_card_url)\r\n",
    "deck = mtgdeck(seed_card, conn=conn)"
   ],
   "outputs": [],
   "metadata": {}
  },
  {
   "cell_type": "code",
   "execution_count": 15,
   "source": [
    "deck.landfall()"
   ],
   "outputs": [],
   "metadata": {}
  },
  {
   "cell_type": "code",
   "execution_count": 8,
   "source": [
    "basic_land_dict = {\r\n",
    "            'W': 'https://edhrec.com/cards/plains',\r\n",
    "            'U': 'https://edhrec.com/cards/island',\r\n",
    "            'B': 'https://edhrec.com/cards/swamp',\r\n",
    "            'G': 'https://edhrec.com/cards/forest',\r\n",
    "            'R': 'https://edhrec.com/cards/mountain'\r\n",
    "        }"
   ],
   "outputs": [],
   "metadata": {}
  }
 ],
 "metadata": {
  "orig_nbformat": 4,
  "language_info": {
   "name": "python",
   "version": "3.9.7",
   "mimetype": "text/x-python",
   "codemirror_mode": {
    "name": "ipython",
    "version": 3
   },
   "pygments_lexer": "ipython3",
   "nbconvert_exporter": "python",
   "file_extension": ".py"
  },
  "kernelspec": {
   "name": "python3",
   "display_name": "Python 3.9.7 64-bit"
  },
  "interpreter": {
   "hash": "6c83eec85ba308d5678538a3eac967df03af70263aef48aeae41bf6f57d914de"
  }
 },
 "nbformat": 4,
 "nbformat_minor": 2
}