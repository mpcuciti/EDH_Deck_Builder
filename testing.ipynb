{
 "cells": [
  {
   "cell_type": "code",
   "execution_count": 1,
   "source": [
    "from AutoEDHFunctionsandClasses import *\r\n",
    "from pprint import pprint"
   ],
   "outputs": [],
   "metadata": {}
  },
  {
   "cell_type": "code",
   "execution_count": 2,
   "source": [
    "seed_card_url = 'https://edhrec.com/cards/sen-triplets'\r\n",
    "seed_card = mtgcard(seed_card_url)\r\n",
    "\r\n",
    "deck = mtgdeck(seed_card)"
   ],
   "outputs": [],
   "metadata": {}
  },
  {
   "cell_type": "code",
   "execution_count": 3,
   "source": [
    "print(deck.commander.name)\r\n",
    "pprint(len(deck.deck_list))"
   ],
   "outputs": [
    {
     "output_type": "stream",
     "name": "stdout",
     "text": [
      "Sen Triplets\n",
      "1\n"
     ]
    }
   ],
   "metadata": {}
  },
  {
   "cell_type": "code",
   "execution_count": 4,
   "source": [
    "deck.add_top_commander_cards(10)"
   ],
   "outputs": [
    {
     "output_type": "stream",
     "name": "stdout",
     "text": [
      "Adding Swords to Plowshares\n",
      "Adding Cyclonic Rift\n",
      "Adding Counterspell\n",
      "Adding Lightning Greaves\n",
      "Adding Path to Exile\n",
      "Adding Solemn Simulacrum\n",
      "Adding Fellwar Stone\n",
      "Adding Baleful Strix\n"
     ]
    },
    {
     "output_type": "execute_result",
     "data": {
      "text/plain": [
       "8"
      ]
     },
     "metadata": {},
     "execution_count": 4
    }
   ],
   "metadata": {}
  },
  {
   "cell_type": "code",
   "execution_count": 5,
   "source": [
    "\r\n",
    "print(deck.mana_curve)\r\n",
    "deck.calculate_mana_curve()\r\n",
    "print(deck.mana_curve)"
   ],
   "outputs": [
    {
     "output_type": "stream",
     "name": "stdout",
     "text": [
      "{}\n",
      "{5: 1, 1: 2, 2: 5, 4: 1}\n"
     ]
    }
   ],
   "metadata": {}
  }
 ],
 "metadata": {
  "orig_nbformat": 4,
  "language_info": {
   "name": "python",
   "version": "3.9.7",
   "mimetype": "text/x-python",
   "codemirror_mode": {
    "name": "ipython",
    "version": 3
   },
   "pygments_lexer": "ipython3",
   "nbconvert_exporter": "python",
   "file_extension": ".py"
  },
  "kernelspec": {
   "name": "python3",
   "display_name": "Python 3.9.7 64-bit"
  },
  "interpreter": {
   "hash": "6c83eec85ba308d5678538a3eac967df03af70263aef48aeae41bf6f57d914de"
  }
 },
 "nbformat": 4,
 "nbformat_minor": 2
}